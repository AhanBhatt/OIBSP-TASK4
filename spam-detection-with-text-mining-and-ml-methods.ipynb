{
 "cells": [
  {
   "cell_type": "markdown",
   "id": "ec50a518",
   "metadata": {},
   "source": [
    "# Task 4: EMail Spam Detection with ML\n",
    "# Batch: OIBSP May P1\n",
    "# By Ahan Bhatt"
   ]
  },
  {
   "cell_type": "code",
   "execution_count": 1,
   "id": "a6bca090",
   "metadata": {
    "_cell_guid": "b1076dfc-b9ad-4769-8c92-a6c4dae69d19",
    "_uuid": "8f2839f25d086af736a60e9eeb907d3b93b6e0e5",
    "execution": {
     "iopub.execute_input": "2021-07-23T05:58:24.857674Z",
     "iopub.status.busy": "2021-07-23T05:58:24.856511Z",
     "iopub.status.idle": "2021-07-23T05:58:26.575236Z",
     "shell.execute_reply": "2021-07-23T05:58:26.574070Z",
     "shell.execute_reply.started": "2021-07-23T05:05:33.259934Z"
    },
    "papermill": {
     "duration": 1.764764,
     "end_time": "2021-07-23T05:58:26.575410",
     "exception": false,
     "start_time": "2021-07-23T05:58:24.810646",
     "status": "completed"
    },
    "tags": []
   },
   "outputs": [],
   "source": [
    "import numpy as np;\n",
    "import pandas as pd;\n",
    "from nltk.corpus import stopwords\n",
    "import re\n",
    "from nltk.stem import SnowballStemmer\n",
    "from sklearn.linear_model import LogisticRegression,LinearRegression,SGDClassifier;\n",
    "from sklearn.metrics import confusion_matrix\n",
    "from sklearn.preprocessing import LabelEncoder;\n",
    "from sklearn.model_selection import train_test_split;"
   ]
  },
  {
   "cell_type": "code",
   "execution_count": 3,
   "id": "d378e249",
   "metadata": {
    "execution": {
     "iopub.execute_input": "2021-07-23T05:58:26.664997Z",
     "iopub.status.busy": "2021-07-23T05:58:26.664357Z",
     "iopub.status.idle": "2021-07-23T05:58:26.741410Z",
     "shell.execute_reply": "2021-07-23T05:58:26.741884Z",
     "shell.execute_reply.started": "2021-07-23T05:05:34.664485Z"
    },
    "papermill": {
     "duration": 0.124348,
     "end_time": "2021-07-23T05:58:26.742064",
     "exception": false,
     "start_time": "2021-07-23T05:58:26.617716",
     "status": "completed"
    },
    "tags": []
   },
   "outputs": [
    {
     "data": {
      "text/html": [
       "<div>\n",
       "<style scoped>\n",
       "    .dataframe tbody tr th:only-of-type {\n",
       "        vertical-align: middle;\n",
       "    }\n",
       "\n",
       "    .dataframe tbody tr th {\n",
       "        vertical-align: top;\n",
       "    }\n",
       "\n",
       "    .dataframe thead th {\n",
       "        text-align: right;\n",
       "    }\n",
       "</style>\n",
       "<table border=\"1\" class=\"dataframe\">\n",
       "  <thead>\n",
       "    <tr style=\"text-align: right;\">\n",
       "      <th></th>\n",
       "      <th>v1</th>\n",
       "      <th>v2</th>\n",
       "      <th>Unnamed: 2</th>\n",
       "      <th>Unnamed: 3</th>\n",
       "      <th>Unnamed: 4</th>\n",
       "    </tr>\n",
       "  </thead>\n",
       "  <tbody>\n",
       "    <tr>\n",
       "      <th>0</th>\n",
       "      <td>ham</td>\n",
       "      <td>Go until jurong point, crazy.. Available only ...</td>\n",
       "      <td>NaN</td>\n",
       "      <td>NaN</td>\n",
       "      <td>NaN</td>\n",
       "    </tr>\n",
       "    <tr>\n",
       "      <th>1</th>\n",
       "      <td>ham</td>\n",
       "      <td>Ok lar... Joking wif u oni...</td>\n",
       "      <td>NaN</td>\n",
       "      <td>NaN</td>\n",
       "      <td>NaN</td>\n",
       "    </tr>\n",
       "    <tr>\n",
       "      <th>2</th>\n",
       "      <td>spam</td>\n",
       "      <td>Free entry in 2 a wkly comp to win FA Cup fina...</td>\n",
       "      <td>NaN</td>\n",
       "      <td>NaN</td>\n",
       "      <td>NaN</td>\n",
       "    </tr>\n",
       "    <tr>\n",
       "      <th>3</th>\n",
       "      <td>ham</td>\n",
       "      <td>U dun say so early hor... U c already then say...</td>\n",
       "      <td>NaN</td>\n",
       "      <td>NaN</td>\n",
       "      <td>NaN</td>\n",
       "    </tr>\n",
       "    <tr>\n",
       "      <th>4</th>\n",
       "      <td>ham</td>\n",
       "      <td>Nah I don't think he goes to usf, he lives aro...</td>\n",
       "      <td>NaN</td>\n",
       "      <td>NaN</td>\n",
       "      <td>NaN</td>\n",
       "    </tr>\n",
       "  </tbody>\n",
       "</table>\n",
       "</div>"
      ],
      "text/plain": [
       "     v1                                                 v2 Unnamed: 2  \\\n",
       "0   ham  Go until jurong point, crazy.. Available only ...        NaN   \n",
       "1   ham                      Ok lar... Joking wif u oni...        NaN   \n",
       "2  spam  Free entry in 2 a wkly comp to win FA Cup fina...        NaN   \n",
       "3   ham  U dun say so early hor... U c already then say...        NaN   \n",
       "4   ham  Nah I don't think he goes to usf, he lives aro...        NaN   \n",
       "\n",
       "  Unnamed: 3 Unnamed: 4  \n",
       "0        NaN        NaN  \n",
       "1        NaN        NaN  \n",
       "2        NaN        NaN  \n",
       "3        NaN        NaN  \n",
       "4        NaN        NaN  "
      ]
     },
     "execution_count": 3,
     "metadata": {},
     "output_type": "execute_result"
    }
   ],
   "source": [
    "text = pd.read_csv('C:/Users/HP/Documents/Indus/Internship/Oasis Infobyte/Tasks/Task 4/spam.csv', encoding = 'latin-1')\n",
    "text.head()\n"
   ]
  },
  {
   "cell_type": "code",
   "execution_count": 4,
   "id": "7decd429",
   "metadata": {
    "execution": {
     "iopub.execute_input": "2021-07-23T05:58:26.843774Z",
     "iopub.status.busy": "2021-07-23T05:58:26.842688Z",
     "iopub.status.idle": "2021-07-23T05:58:26.847364Z",
     "shell.execute_reply": "2021-07-23T05:58:26.846706Z",
     "shell.execute_reply.started": "2021-07-23T05:05:34.722013Z"
    },
    "papermill": {
     "duration": 0.063086,
     "end_time": "2021-07-23T05:58:26.847508",
     "exception": false,
     "start_time": "2021-07-23T05:58:26.784422",
     "status": "completed"
    },
    "tags": []
   },
   "outputs": [
    {
     "data": {
      "text/html": [
       "<div>\n",
       "<style scoped>\n",
       "    .dataframe tbody tr th:only-of-type {\n",
       "        vertical-align: middle;\n",
       "    }\n",
       "\n",
       "    .dataframe tbody tr th {\n",
       "        vertical-align: top;\n",
       "    }\n",
       "\n",
       "    .dataframe thead th {\n",
       "        text-align: right;\n",
       "    }\n",
       "</style>\n",
       "<table border=\"1\" class=\"dataframe\">\n",
       "  <thead>\n",
       "    <tr style=\"text-align: right;\">\n",
       "      <th></th>\n",
       "      <th>v1</th>\n",
       "      <th>v2</th>\n",
       "    </tr>\n",
       "  </thead>\n",
       "  <tbody>\n",
       "    <tr>\n",
       "      <th>0</th>\n",
       "      <td>ham</td>\n",
       "      <td>Go until jurong point, crazy.. Available only ...</td>\n",
       "    </tr>\n",
       "    <tr>\n",
       "      <th>1</th>\n",
       "      <td>ham</td>\n",
       "      <td>Ok lar... Joking wif u oni...</td>\n",
       "    </tr>\n",
       "    <tr>\n",
       "      <th>2</th>\n",
       "      <td>spam</td>\n",
       "      <td>Free entry in 2 a wkly comp to win FA Cup fina...</td>\n",
       "    </tr>\n",
       "    <tr>\n",
       "      <th>3</th>\n",
       "      <td>ham</td>\n",
       "      <td>U dun say so early hor... U c already then say...</td>\n",
       "    </tr>\n",
       "    <tr>\n",
       "      <th>4</th>\n",
       "      <td>ham</td>\n",
       "      <td>Nah I don't think he goes to usf, he lives aro...</td>\n",
       "    </tr>\n",
       "  </tbody>\n",
       "</table>\n",
       "</div>"
      ],
      "text/plain": [
       "     v1                                                 v2\n",
       "0   ham  Go until jurong point, crazy.. Available only ...\n",
       "1   ham                      Ok lar... Joking wif u oni...\n",
       "2  spam  Free entry in 2 a wkly comp to win FA Cup fina...\n",
       "3   ham  U dun say so early hor... U c already then say...\n",
       "4   ham  Nah I don't think he goes to usf, he lives aro..."
      ]
     },
     "execution_count": 4,
     "metadata": {},
     "output_type": "execute_result"
    }
   ],
   "source": [
    "text.drop(columns = ['Unnamed: 2', 'Unnamed: 3', 'Unnamed: 4'], inplace = True)\n",
    "text.head()"
   ]
  },
  {
   "cell_type": "code",
   "execution_count": 5,
   "id": "10b3f0e3",
   "metadata": {
    "execution": {
     "iopub.execute_input": "2021-07-23T05:58:26.939465Z",
     "iopub.status.busy": "2021-07-23T05:58:26.938753Z",
     "iopub.status.idle": "2021-07-23T05:58:26.940818Z",
     "shell.execute_reply": "2021-07-23T05:58:26.941302Z",
     "shell.execute_reply.started": "2021-07-23T05:05:34.735842Z"
    },
    "papermill": {
     "duration": 0.050182,
     "end_time": "2021-07-23T05:58:26.941482",
     "exception": false,
     "start_time": "2021-07-23T05:58:26.891300",
     "status": "completed"
    },
    "tags": []
   },
   "outputs": [],
   "source": [
    "text.columns = ['Category', 'Message']"
   ]
  },
  {
   "cell_type": "code",
   "execution_count": 6,
   "id": "311bb1bb",
   "metadata": {
    "execution": {
     "iopub.execute_input": "2021-07-23T05:58:27.030938Z",
     "iopub.status.busy": "2021-07-23T05:58:27.030169Z",
     "iopub.status.idle": "2021-07-23T05:58:27.039164Z",
     "shell.execute_reply": "2021-07-23T05:58:27.039621Z",
     "shell.execute_reply.started": "2021-07-23T05:05:34.742070Z"
    },
    "papermill": {
     "duration": 0.055042,
     "end_time": "2021-07-23T05:58:27.039808",
     "exception": false,
     "start_time": "2021-07-23T05:58:26.984766",
     "status": "completed"
    },
    "tags": []
   },
   "outputs": [
    {
     "data": {
      "text/html": [
       "<div>\n",
       "<style scoped>\n",
       "    .dataframe tbody tr th:only-of-type {\n",
       "        vertical-align: middle;\n",
       "    }\n",
       "\n",
       "    .dataframe tbody tr th {\n",
       "        vertical-align: top;\n",
       "    }\n",
       "\n",
       "    .dataframe thead th {\n",
       "        text-align: right;\n",
       "    }\n",
       "</style>\n",
       "<table border=\"1\" class=\"dataframe\">\n",
       "  <thead>\n",
       "    <tr style=\"text-align: right;\">\n",
       "      <th></th>\n",
       "      <th>Category</th>\n",
       "      <th>Message</th>\n",
       "    </tr>\n",
       "  </thead>\n",
       "  <tbody>\n",
       "    <tr>\n",
       "      <th>0</th>\n",
       "      <td>ham</td>\n",
       "      <td>Go until jurong point, crazy.. Available only ...</td>\n",
       "    </tr>\n",
       "    <tr>\n",
       "      <th>1</th>\n",
       "      <td>ham</td>\n",
       "      <td>Ok lar... Joking wif u oni...</td>\n",
       "    </tr>\n",
       "    <tr>\n",
       "      <th>2</th>\n",
       "      <td>spam</td>\n",
       "      <td>Free entry in 2 a wkly comp to win FA Cup fina...</td>\n",
       "    </tr>\n",
       "    <tr>\n",
       "      <th>3</th>\n",
       "      <td>ham</td>\n",
       "      <td>U dun say so early hor... U c already then say...</td>\n",
       "    </tr>\n",
       "    <tr>\n",
       "      <th>4</th>\n",
       "      <td>ham</td>\n",
       "      <td>Nah I don't think he goes to usf, he lives aro...</td>\n",
       "    </tr>\n",
       "  </tbody>\n",
       "</table>\n",
       "</div>"
      ],
      "text/plain": [
       "  Category                                            Message\n",
       "0      ham  Go until jurong point, crazy.. Available only ...\n",
       "1      ham                      Ok lar... Joking wif u oni...\n",
       "2     spam  Free entry in 2 a wkly comp to win FA Cup fina...\n",
       "3      ham  U dun say so early hor... U c already then say...\n",
       "4      ham  Nah I don't think he goes to usf, he lives aro..."
      ]
     },
     "execution_count": 6,
     "metadata": {},
     "output_type": "execute_result"
    }
   ],
   "source": [
    "text.head()"
   ]
  },
  {
   "cell_type": "code",
   "execution_count": 7,
   "id": "73315e0a",
   "metadata": {
    "execution": {
     "iopub.execute_input": "2021-07-23T05:58:27.132158Z",
     "iopub.status.busy": "2021-07-23T05:58:27.131451Z",
     "iopub.status.idle": "2021-07-23T05:58:27.137961Z",
     "shell.execute_reply": "2021-07-23T05:58:27.137451Z",
     "shell.execute_reply.started": "2021-07-23T05:05:34.756686Z"
    },
    "papermill": {
     "duration": 0.05429,
     "end_time": "2021-07-23T05:58:27.138122",
     "exception": false,
     "start_time": "2021-07-23T05:58:27.083832",
     "status": "completed"
    },
    "tags": []
   },
   "outputs": [
    {
     "data": {
      "text/plain": [
       "\"Free entry in 2 a wkly comp to win FA Cup final tkts 21st May 2005. Text FA to 87121 to receive entry question(std txt rate)T&C's apply 08452810075over18's\""
      ]
     },
     "execution_count": 7,
     "metadata": {},
     "output_type": "execute_result"
    }
   ],
   "source": [
    "x = text['Message'].iloc[2]\n",
    "x"
   ]
  },
  {
   "cell_type": "code",
   "execution_count": 8,
   "id": "6cedf48a",
   "metadata": {
    "execution": {
     "iopub.execute_input": "2021-07-23T05:58:27.232265Z",
     "iopub.status.busy": "2021-07-23T05:58:27.231596Z",
     "iopub.status.idle": "2021-07-23T05:58:27.234659Z",
     "shell.execute_reply": "2021-07-23T05:58:27.235167Z",
     "shell.execute_reply.started": "2021-07-23T05:05:34.768299Z"
    },
    "papermill": {
     "duration": 0.053639,
     "end_time": "2021-07-23T05:58:27.235337",
     "exception": false,
     "start_time": "2021-07-23T05:58:27.181698",
     "status": "completed"
    },
    "tags": []
   },
   "outputs": [
    {
     "data": {
      "text/plain": [
       "['Free',\n",
       " 'entry',\n",
       " 'in',\n",
       " '2',\n",
       " 'a',\n",
       " 'wkly',\n",
       " 'comp',\n",
       " 'to',\n",
       " 'win',\n",
       " 'FA',\n",
       " 'Cup',\n",
       " 'final',\n",
       " 'tkts',\n",
       " '21st',\n",
       " 'May',\n",
       " '2005.',\n",
       " 'Text',\n",
       " 'FA',\n",
       " 'to',\n",
       " '87121',\n",
       " 'to',\n",
       " 'receive',\n",
       " 'entry',\n",
       " 'question(std',\n",
       " 'txt',\n",
       " \"rate)T&C's\",\n",
       " 'apply',\n",
       " \"08452810075over18's\"]"
      ]
     },
     "execution_count": 8,
     "metadata": {},
     "output_type": "execute_result"
    }
   ],
   "source": [
    "x.split(' ')"
   ]
  },
  {
   "cell_type": "code",
   "execution_count": 9,
   "id": "7fa07bc4",
   "metadata": {
    "execution": {
     "iopub.execute_input": "2021-07-23T05:58:27.327289Z",
     "iopub.status.busy": "2021-07-23T05:58:27.326624Z",
     "iopub.status.idle": "2021-07-23T05:58:27.331490Z",
     "shell.execute_reply": "2021-07-23T05:58:27.332070Z",
     "shell.execute_reply.started": "2021-07-23T05:05:34.780248Z"
    },
    "papermill": {
     "duration": 0.052857,
     "end_time": "2021-07-23T05:58:27.332270",
     "exception": false,
     "start_time": "2021-07-23T05:58:27.279413",
     "status": "completed"
    },
    "tags": []
   },
   "outputs": [
    {
     "data": {
      "text/plain": [
       "28"
      ]
     },
     "execution_count": 9,
     "metadata": {},
     "output_type": "execute_result"
    }
   ],
   "source": [
    "len(x.split(' '))"
   ]
  },
  {
   "cell_type": "code",
   "execution_count": 10,
   "id": "46878caa",
   "metadata": {
    "execution": {
     "iopub.execute_input": "2021-07-23T05:58:27.423569Z",
     "iopub.status.busy": "2021-07-23T05:58:27.422894Z",
     "iopub.status.idle": "2021-07-23T05:58:27.427888Z",
     "shell.execute_reply": "2021-07-23T05:58:27.428430Z",
     "shell.execute_reply.started": "2021-07-23T05:05:34.788847Z"
    },
    "papermill": {
     "duration": 0.052185,
     "end_time": "2021-07-23T05:58:27.428610",
     "exception": false,
     "start_time": "2021-07-23T05:58:27.376425",
     "status": "completed"
    },
    "tags": []
   },
   "outputs": [
    {
     "data": {
      "text/plain": [
       "'a'"
      ]
     },
     "execution_count": 10,
     "metadata": {},
     "output_type": "execute_result"
    }
   ],
   "source": [
    "x.split(' ')[4]"
   ]
  },
  {
   "cell_type": "code",
   "execution_count": 11,
   "id": "032b634d",
   "metadata": {
    "execution": {
     "iopub.execute_input": "2021-07-23T05:58:27.521436Z",
     "iopub.status.busy": "2021-07-23T05:58:27.520781Z",
     "iopub.status.idle": "2021-07-23T05:58:27.542505Z",
     "shell.execute_reply": "2021-07-23T05:58:27.541957Z",
     "shell.execute_reply.started": "2021-07-23T05:05:34.801563Z"
    },
    "papermill": {
     "duration": 0.068604,
     "end_time": "2021-07-23T05:58:27.542648",
     "exception": false,
     "start_time": "2021-07-23T05:58:27.474044",
     "status": "completed"
    },
    "tags": []
   },
   "outputs": [
    {
     "data": {
      "text/html": [
       "<div>\n",
       "<style scoped>\n",
       "    .dataframe tbody tr th:only-of-type {\n",
       "        vertical-align: middle;\n",
       "    }\n",
       "\n",
       "    .dataframe tbody tr th {\n",
       "        vertical-align: top;\n",
       "    }\n",
       "\n",
       "    .dataframe thead th {\n",
       "        text-align: right;\n",
       "    }\n",
       "</style>\n",
       "<table border=\"1\" class=\"dataframe\">\n",
       "  <thead>\n",
       "    <tr style=\"text-align: right;\">\n",
       "      <th></th>\n",
       "      <th>Category</th>\n",
       "      <th>Message</th>\n",
       "      <th>word_count</th>\n",
       "    </tr>\n",
       "  </thead>\n",
       "  <tbody>\n",
       "    <tr>\n",
       "      <th>0</th>\n",
       "      <td>ham</td>\n",
       "      <td>Go until jurong point, crazy.. Available only ...</td>\n",
       "      <td>20</td>\n",
       "    </tr>\n",
       "    <tr>\n",
       "      <th>1</th>\n",
       "      <td>ham</td>\n",
       "      <td>Ok lar... Joking wif u oni...</td>\n",
       "      <td>6</td>\n",
       "    </tr>\n",
       "    <tr>\n",
       "      <th>2</th>\n",
       "      <td>spam</td>\n",
       "      <td>Free entry in 2 a wkly comp to win FA Cup fina...</td>\n",
       "      <td>28</td>\n",
       "    </tr>\n",
       "    <tr>\n",
       "      <th>3</th>\n",
       "      <td>ham</td>\n",
       "      <td>U dun say so early hor... U c already then say...</td>\n",
       "      <td>11</td>\n",
       "    </tr>\n",
       "    <tr>\n",
       "      <th>4</th>\n",
       "      <td>ham</td>\n",
       "      <td>Nah I don't think he goes to usf, he lives aro...</td>\n",
       "      <td>13</td>\n",
       "    </tr>\n",
       "  </tbody>\n",
       "</table>\n",
       "</div>"
      ],
      "text/plain": [
       "  Category                                            Message  word_count\n",
       "0      ham  Go until jurong point, crazy.. Available only ...          20\n",
       "1      ham                      Ok lar... Joking wif u oni...           6\n",
       "2     spam  Free entry in 2 a wkly comp to win FA Cup fina...          28\n",
       "3      ham  U dun say so early hor... U c already then say...          11\n",
       "4      ham  Nah I don't think he goes to usf, he lives aro...          13"
      ]
     },
     "execution_count": 11,
     "metadata": {},
     "output_type": "execute_result"
    }
   ],
   "source": [
    "text['word_count'] = text['Message'].agg(lambda x: len(x.split(' ')))\n",
    "text.head()"
   ]
  },
  {
   "cell_type": "code",
   "execution_count": 12,
   "id": "ff6e3f28",
   "metadata": {
    "execution": {
     "iopub.execute_input": "2021-07-23T05:58:27.642262Z",
     "iopub.status.busy": "2021-07-23T05:58:27.641571Z",
     "iopub.status.idle": "2021-07-23T05:58:27.658667Z",
     "shell.execute_reply": "2021-07-23T05:58:27.658130Z",
     "shell.execute_reply.started": "2021-07-23T05:05:34.827014Z"
    },
    "papermill": {
     "duration": 0.071569,
     "end_time": "2021-07-23T05:58:27.658823",
     "exception": false,
     "start_time": "2021-07-23T05:58:27.587254",
     "status": "completed"
    },
    "tags": []
   },
   "outputs": [
    {
     "name": "stderr",
     "output_type": "stream",
     "text": [
      "C:\\Users\\HP\\AppData\\Local\\Temp\\ipykernel_17240\\1468315363.py:1: FutureWarning: ['Message'] did not aggregate successfully. If any error is raised this will raise in a future version of pandas. Drop these columns/ops to avoid this warning.\n",
      "  text.groupby('Category').agg(['mean', 'std'])\n"
     ]
    },
    {
     "data": {
      "text/html": [
       "<div>\n",
       "<style scoped>\n",
       "    .dataframe tbody tr th:only-of-type {\n",
       "        vertical-align: middle;\n",
       "    }\n",
       "\n",
       "    .dataframe tbody tr th {\n",
       "        vertical-align: top;\n",
       "    }\n",
       "\n",
       "    .dataframe thead tr th {\n",
       "        text-align: left;\n",
       "    }\n",
       "\n",
       "    .dataframe thead tr:last-of-type th {\n",
       "        text-align: right;\n",
       "    }\n",
       "</style>\n",
       "<table border=\"1\" class=\"dataframe\">\n",
       "  <thead>\n",
       "    <tr>\n",
       "      <th></th>\n",
       "      <th colspan=\"2\" halign=\"left\">word_count</th>\n",
       "    </tr>\n",
       "    <tr>\n",
       "      <th></th>\n",
       "      <th>mean</th>\n",
       "      <th>std</th>\n",
       "    </tr>\n",
       "    <tr>\n",
       "      <th>Category</th>\n",
       "      <th></th>\n",
       "      <th></th>\n",
       "    </tr>\n",
       "  </thead>\n",
       "  <tbody>\n",
       "    <tr>\n",
       "      <th>ham</th>\n",
       "      <td>14.323938</td>\n",
       "      <td>11.538966</td>\n",
       "    </tr>\n",
       "    <tr>\n",
       "      <th>spam</th>\n",
       "      <td>23.892905</td>\n",
       "      <td>5.826977</td>\n",
       "    </tr>\n",
       "  </tbody>\n",
       "</table>\n",
       "</div>"
      ],
      "text/plain": [
       "         word_count           \n",
       "               mean        std\n",
       "Category                      \n",
       "ham       14.323938  11.538966\n",
       "spam      23.892905   5.826977"
      ]
     },
     "execution_count": 12,
     "metadata": {},
     "output_type": "execute_result"
    }
   ],
   "source": [
    "text.groupby('Category').agg(['mean', 'std'])"
   ]
  },
  {
   "cell_type": "code",
   "execution_count": 13,
   "id": "fc4f49a4",
   "metadata": {
    "execution": {
     "iopub.execute_input": "2021-07-23T05:58:27.764506Z",
     "iopub.status.busy": "2021-07-23T05:58:27.763804Z",
     "iopub.status.idle": "2021-07-23T05:58:27.767037Z",
     "shell.execute_reply": "2021-07-23T05:58:27.767551Z",
     "shell.execute_reply.started": "2021-07-23T05:05:34.850399Z"
    },
    "papermill": {
     "duration": 0.06326,
     "end_time": "2021-07-23T05:58:27.767721",
     "exception": false,
     "start_time": "2021-07-23T05:58:27.704461",
     "status": "completed"
    },
    "tags": []
   },
   "outputs": [
    {
     "data": {
      "text/html": [
       "<div>\n",
       "<style scoped>\n",
       "    .dataframe tbody tr th:only-of-type {\n",
       "        vertical-align: middle;\n",
       "    }\n",
       "\n",
       "    .dataframe tbody tr th {\n",
       "        vertical-align: top;\n",
       "    }\n",
       "\n",
       "    .dataframe thead th {\n",
       "        text-align: right;\n",
       "    }\n",
       "</style>\n",
       "<table border=\"1\" class=\"dataframe\">\n",
       "  <thead>\n",
       "    <tr style=\"text-align: right;\">\n",
       "      <th></th>\n",
       "      <th>Category</th>\n",
       "      <th>Message</th>\n",
       "      <th>word_count</th>\n",
       "      <th>char_count</th>\n",
       "    </tr>\n",
       "  </thead>\n",
       "  <tbody>\n",
       "    <tr>\n",
       "      <th>0</th>\n",
       "      <td>ham</td>\n",
       "      <td>Go until jurong point, crazy.. Available only ...</td>\n",
       "      <td>20</td>\n",
       "      <td>111</td>\n",
       "    </tr>\n",
       "    <tr>\n",
       "      <th>1</th>\n",
       "      <td>ham</td>\n",
       "      <td>Ok lar... Joking wif u oni...</td>\n",
       "      <td>6</td>\n",
       "      <td>29</td>\n",
       "    </tr>\n",
       "    <tr>\n",
       "      <th>2</th>\n",
       "      <td>spam</td>\n",
       "      <td>Free entry in 2 a wkly comp to win FA Cup fina...</td>\n",
       "      <td>28</td>\n",
       "      <td>155</td>\n",
       "    </tr>\n",
       "    <tr>\n",
       "      <th>3</th>\n",
       "      <td>ham</td>\n",
       "      <td>U dun say so early hor... U c already then say...</td>\n",
       "      <td>11</td>\n",
       "      <td>49</td>\n",
       "    </tr>\n",
       "    <tr>\n",
       "      <th>4</th>\n",
       "      <td>ham</td>\n",
       "      <td>Nah I don't think he goes to usf, he lives aro...</td>\n",
       "      <td>13</td>\n",
       "      <td>61</td>\n",
       "    </tr>\n",
       "  </tbody>\n",
       "</table>\n",
       "</div>"
      ],
      "text/plain": [
       "  Category                                            Message  word_count  \\\n",
       "0      ham  Go until jurong point, crazy.. Available only ...          20   \n",
       "1      ham                      Ok lar... Joking wif u oni...           6   \n",
       "2     spam  Free entry in 2 a wkly comp to win FA Cup fina...          28   \n",
       "3      ham  U dun say so early hor... U c already then say...          11   \n",
       "4      ham  Nah I don't think he goes to usf, he lives aro...          13   \n",
       "\n",
       "   char_count  \n",
       "0         111  \n",
       "1          29  \n",
       "2         155  \n",
       "3          49  \n",
       "4          61  "
      ]
     },
     "execution_count": 13,
     "metadata": {},
     "output_type": "execute_result"
    }
   ],
   "source": [
    "text['char_count'] = text['Message'].agg(len)\n",
    "text.head()"
   ]
  },
  {
   "cell_type": "code",
   "execution_count": 14,
   "id": "3bdaf5bb",
   "metadata": {
    "execution": {
     "iopub.execute_input": "2021-07-23T05:58:27.863165Z",
     "iopub.status.busy": "2021-07-23T05:58:27.862449Z",
     "iopub.status.idle": "2021-07-23T05:58:27.882873Z",
     "shell.execute_reply": "2021-07-23T05:58:27.883465Z",
     "shell.execute_reply.started": "2021-07-23T05:05:35.165849Z"
    },
    "papermill": {
     "duration": 0.069378,
     "end_time": "2021-07-23T05:58:27.883662",
     "exception": false,
     "start_time": "2021-07-23T05:58:27.814284",
     "status": "completed"
    },
    "tags": []
   },
   "outputs": [
    {
     "name": "stderr",
     "output_type": "stream",
     "text": [
      "C:\\Users\\HP\\AppData\\Local\\Temp\\ipykernel_17240\\2387802731.py:1: FutureWarning: ['Message'] did not aggregate successfully. If any error is raised this will raise in a future version of pandas. Drop these columns/ops to avoid this warning.\n",
      "  text.groupby('Category').agg(['mean', 'std'])\n"
     ]
    },
    {
     "data": {
      "text/html": [
       "<div>\n",
       "<style scoped>\n",
       "    .dataframe tbody tr th:only-of-type {\n",
       "        vertical-align: middle;\n",
       "    }\n",
       "\n",
       "    .dataframe tbody tr th {\n",
       "        vertical-align: top;\n",
       "    }\n",
       "\n",
       "    .dataframe thead tr th {\n",
       "        text-align: left;\n",
       "    }\n",
       "\n",
       "    .dataframe thead tr:last-of-type th {\n",
       "        text-align: right;\n",
       "    }\n",
       "</style>\n",
       "<table border=\"1\" class=\"dataframe\">\n",
       "  <thead>\n",
       "    <tr>\n",
       "      <th></th>\n",
       "      <th colspan=\"2\" halign=\"left\">word_count</th>\n",
       "      <th colspan=\"2\" halign=\"left\">char_count</th>\n",
       "    </tr>\n",
       "    <tr>\n",
       "      <th></th>\n",
       "      <th>mean</th>\n",
       "      <th>std</th>\n",
       "      <th>mean</th>\n",
       "      <th>std</th>\n",
       "    </tr>\n",
       "    <tr>\n",
       "      <th>Category</th>\n",
       "      <th></th>\n",
       "      <th></th>\n",
       "      <th></th>\n",
       "      <th></th>\n",
       "    </tr>\n",
       "  </thead>\n",
       "  <tbody>\n",
       "    <tr>\n",
       "      <th>ham</th>\n",
       "      <td>14.323938</td>\n",
       "      <td>11.538966</td>\n",
       "      <td>71.023627</td>\n",
       "      <td>58.016023</td>\n",
       "    </tr>\n",
       "    <tr>\n",
       "      <th>spam</th>\n",
       "      <td>23.892905</td>\n",
       "      <td>5.826977</td>\n",
       "      <td>138.866131</td>\n",
       "      <td>29.183082</td>\n",
       "    </tr>\n",
       "  </tbody>\n",
       "</table>\n",
       "</div>"
      ],
      "text/plain": [
       "         word_count             char_count           \n",
       "               mean        std        mean        std\n",
       "Category                                             \n",
       "ham       14.323938  11.538966   71.023627  58.016023\n",
       "spam      23.892905   5.826977  138.866131  29.183082"
      ]
     },
     "execution_count": 14,
     "metadata": {},
     "output_type": "execute_result"
    }
   ],
   "source": [
    "\n",
    "text.groupby('Category').agg(['mean', 'std'])"
   ]
  },
  {
   "cell_type": "code",
   "execution_count": 16,
   "id": "b55aa45f",
   "metadata": {
    "execution": {
     "iopub.execute_input": "2021-07-23T05:58:27.978915Z",
     "iopub.status.busy": "2021-07-23T05:58:27.978280Z",
     "iopub.status.idle": "2021-07-23T05:58:27.993987Z",
     "shell.execute_reply": "2021-07-23T05:58:27.993421Z",
     "shell.execute_reply.started": "2021-07-23T05:05:35.192242Z"
    },
    "jupyter": {
     "outputs_hidden": true
    },
    "papermill": {
     "duration": 0.064343,
     "end_time": "2021-07-23T05:58:27.994151",
     "exception": false,
     "start_time": "2021-07-23T05:58:27.929808",
     "status": "completed"
    },
    "tags": []
   },
   "outputs": [
    {
     "name": "stderr",
     "output_type": "stream",
     "text": [
      "[nltk_data] Downloading package stopwords to\n",
      "[nltk_data]     C:\\Users\\HP\\AppData\\Roaming\\nltk_data...\n",
      "[nltk_data]   Unzipping corpora\\stopwords.zip.\n"
     ]
    },
    {
     "data": {
      "text/plain": [
       "['i',\n",
       " 'me',\n",
       " 'my',\n",
       " 'myself',\n",
       " 'we',\n",
       " 'our',\n",
       " 'ours',\n",
       " 'ourselves',\n",
       " 'you',\n",
       " \"you're\",\n",
       " \"you've\",\n",
       " \"you'll\",\n",
       " \"you'd\",\n",
       " 'your',\n",
       " 'yours',\n",
       " 'yourself',\n",
       " 'yourselves',\n",
       " 'he',\n",
       " 'him',\n",
       " 'his',\n",
       " 'himself',\n",
       " 'she',\n",
       " \"she's\",\n",
       " 'her',\n",
       " 'hers',\n",
       " 'herself',\n",
       " 'it',\n",
       " \"it's\",\n",
       " 'its',\n",
       " 'itself',\n",
       " 'they',\n",
       " 'them',\n",
       " 'their',\n",
       " 'theirs',\n",
       " 'themselves',\n",
       " 'what',\n",
       " 'which',\n",
       " 'who',\n",
       " 'whom',\n",
       " 'this',\n",
       " 'that',\n",
       " \"that'll\",\n",
       " 'these',\n",
       " 'those',\n",
       " 'am',\n",
       " 'is',\n",
       " 'are',\n",
       " 'was',\n",
       " 'were',\n",
       " 'be',\n",
       " 'been',\n",
       " 'being',\n",
       " 'have',\n",
       " 'has',\n",
       " 'had',\n",
       " 'having',\n",
       " 'do',\n",
       " 'does',\n",
       " 'did',\n",
       " 'doing',\n",
       " 'a',\n",
       " 'an',\n",
       " 'the',\n",
       " 'and',\n",
       " 'but',\n",
       " 'if',\n",
       " 'or',\n",
       " 'because',\n",
       " 'as',\n",
       " 'until',\n",
       " 'while',\n",
       " 'of',\n",
       " 'at',\n",
       " 'by',\n",
       " 'for',\n",
       " 'with',\n",
       " 'about',\n",
       " 'against',\n",
       " 'between',\n",
       " 'into',\n",
       " 'through',\n",
       " 'during',\n",
       " 'before',\n",
       " 'after',\n",
       " 'above',\n",
       " 'below',\n",
       " 'to',\n",
       " 'from',\n",
       " 'up',\n",
       " 'down',\n",
       " 'in',\n",
       " 'out',\n",
       " 'on',\n",
       " 'off',\n",
       " 'over',\n",
       " 'under',\n",
       " 'again',\n",
       " 'further',\n",
       " 'then',\n",
       " 'once',\n",
       " 'here',\n",
       " 'there',\n",
       " 'when',\n",
       " 'where',\n",
       " 'why',\n",
       " 'how',\n",
       " 'all',\n",
       " 'any',\n",
       " 'both',\n",
       " 'each',\n",
       " 'few',\n",
       " 'more',\n",
       " 'most',\n",
       " 'other',\n",
       " 'some',\n",
       " 'such',\n",
       " 'no',\n",
       " 'nor',\n",
       " 'not',\n",
       " 'only',\n",
       " 'own',\n",
       " 'same',\n",
       " 'so',\n",
       " 'than',\n",
       " 'too',\n",
       " 'very',\n",
       " 's',\n",
       " 't',\n",
       " 'can',\n",
       " 'will',\n",
       " 'just',\n",
       " 'don',\n",
       " \"don't\",\n",
       " 'should',\n",
       " \"should've\",\n",
       " 'now',\n",
       " 'd',\n",
       " 'll',\n",
       " 'm',\n",
       " 'o',\n",
       " 're',\n",
       " 've',\n",
       " 'y',\n",
       " 'ain',\n",
       " 'aren',\n",
       " \"aren't\",\n",
       " 'couldn',\n",
       " \"couldn't\",\n",
       " 'didn',\n",
       " \"didn't\",\n",
       " 'doesn',\n",
       " \"doesn't\",\n",
       " 'hadn',\n",
       " \"hadn't\",\n",
       " 'hasn',\n",
       " \"hasn't\",\n",
       " 'haven',\n",
       " \"haven't\",\n",
       " 'isn',\n",
       " \"isn't\",\n",
       " 'ma',\n",
       " 'mightn',\n",
       " \"mightn't\",\n",
       " 'mustn',\n",
       " \"mustn't\",\n",
       " 'needn',\n",
       " \"needn't\",\n",
       " 'shan',\n",
       " \"shan't\",\n",
       " 'shouldn',\n",
       " \"shouldn't\",\n",
       " 'wasn',\n",
       " \"wasn't\",\n",
       " 'weren',\n",
       " \"weren't\",\n",
       " 'won',\n",
       " \"won't\",\n",
       " 'wouldn',\n",
       " \"wouldn't\"]"
      ]
     },
     "execution_count": 16,
     "metadata": {},
     "output_type": "execute_result"
    }
   ],
   "source": [
    "\n",
    "import nltk\n",
    "nltk.download('stopwords')\n",
    "stop = stopwords.words('english')\n",
    "stop"
   ]
  },
  {
   "cell_type": "code",
   "execution_count": 17,
   "id": "29264916",
   "metadata": {
    "execution": {
     "iopub.execute_input": "2021-07-23T05:58:28.094492Z",
     "iopub.status.busy": "2021-07-23T05:58:28.093732Z",
     "iopub.status.idle": "2021-07-23T05:58:28.096315Z",
     "shell.execute_reply": "2021-07-23T05:58:28.095725Z",
     "shell.execute_reply.started": "2021-07-23T05:05:35.210482Z"
    },
    "papermill": {
     "duration": 0.054412,
     "end_time": "2021-07-23T05:58:28.096459",
     "exception": false,
     "start_time": "2021-07-23T05:58:28.042047",
     "status": "completed"
    },
    "tags": []
   },
   "outputs": [],
   "source": [
    "stop.append('u')\n",
    "stop.append('ur')\n",
    "stop.append('2') # to\n",
    "stop.append('4') # for\n",
    "stop.append('n') # and"
   ]
  },
  {
   "cell_type": "code",
   "execution_count": 18,
   "id": "9f603000",
   "metadata": {
    "execution": {
     "iopub.execute_input": "2021-07-23T05:58:28.194905Z",
     "iopub.status.busy": "2021-07-23T05:58:28.194241Z",
     "iopub.status.idle": "2021-07-23T05:58:28.209682Z",
     "shell.execute_reply": "2021-07-23T05:58:28.210217Z",
     "shell.execute_reply.started": "2021-07-23T05:05:35.217845Z"
    },
    "papermill": {
     "duration": 0.066071,
     "end_time": "2021-07-23T05:58:28.210397",
     "exception": false,
     "start_time": "2021-07-23T05:58:28.144326",
     "status": "completed"
    },
    "tags": []
   },
   "outputs": [
    {
     "data": {
      "text/html": [
       "<div>\n",
       "<style scoped>\n",
       "    .dataframe tbody tr th:only-of-type {\n",
       "        vertical-align: middle;\n",
       "    }\n",
       "\n",
       "    .dataframe tbody tr th {\n",
       "        vertical-align: top;\n",
       "    }\n",
       "\n",
       "    .dataframe thead th {\n",
       "        text-align: right;\n",
       "    }\n",
       "</style>\n",
       "<table border=\"1\" class=\"dataframe\">\n",
       "  <thead>\n",
       "    <tr style=\"text-align: right;\">\n",
       "      <th></th>\n",
       "      <th>Category</th>\n",
       "      <th>Message</th>\n",
       "      <th>word_count</th>\n",
       "      <th>char_count</th>\n",
       "    </tr>\n",
       "  </thead>\n",
       "  <tbody>\n",
       "    <tr>\n",
       "      <th>0</th>\n",
       "      <td>ham</td>\n",
       "      <td>go until jurong point, crazy.. available only ...</td>\n",
       "      <td>20</td>\n",
       "      <td>111</td>\n",
       "    </tr>\n",
       "    <tr>\n",
       "      <th>1</th>\n",
       "      <td>ham</td>\n",
       "      <td>ok lar... joking wif u oni...</td>\n",
       "      <td>6</td>\n",
       "      <td>29</td>\n",
       "    </tr>\n",
       "    <tr>\n",
       "      <th>2</th>\n",
       "      <td>spam</td>\n",
       "      <td>free entry in 2 a wkly comp to win fa cup fina...</td>\n",
       "      <td>28</td>\n",
       "      <td>155</td>\n",
       "    </tr>\n",
       "    <tr>\n",
       "      <th>3</th>\n",
       "      <td>ham</td>\n",
       "      <td>u dun say so early hor... u c already then say...</td>\n",
       "      <td>11</td>\n",
       "      <td>49</td>\n",
       "    </tr>\n",
       "    <tr>\n",
       "      <th>4</th>\n",
       "      <td>ham</td>\n",
       "      <td>nah i don't think he goes to usf, he lives aro...</td>\n",
       "      <td>13</td>\n",
       "      <td>61</td>\n",
       "    </tr>\n",
       "  </tbody>\n",
       "</table>\n",
       "</div>"
      ],
      "text/plain": [
       "  Category                                            Message  word_count  \\\n",
       "0      ham  go until jurong point, crazy.. available only ...          20   \n",
       "1      ham                      ok lar... joking wif u oni...           6   \n",
       "2     spam  free entry in 2 a wkly comp to win fa cup fina...          28   \n",
       "3      ham  u dun say so early hor... u c already then say...          11   \n",
       "4      ham  nah i don't think he goes to usf, he lives aro...          13   \n",
       "\n",
       "   char_count  \n",
       "0         111  \n",
       "1          29  \n",
       "2         155  \n",
       "3          49  \n",
       "4          61  "
      ]
     },
     "execution_count": 18,
     "metadata": {},
     "output_type": "execute_result"
    }
   ],
   "source": [
    "text['Message'] = text['Message'].agg(lambda x: x.lower())\n",
    "text.head()"
   ]
  },
  {
   "cell_type": "code",
   "execution_count": 19,
   "id": "8e4d7a37",
   "metadata": {
    "execution": {
     "iopub.execute_input": "2021-07-23T05:58:28.311215Z",
     "iopub.status.busy": "2021-07-23T05:58:28.310164Z",
     "iopub.status.idle": "2021-07-23T05:58:28.523786Z",
     "shell.execute_reply": "2021-07-23T05:58:28.523231Z",
     "shell.execute_reply.started": "2021-07-23T05:15:25.074295Z"
    },
    "papermill": {
     "duration": 0.264958,
     "end_time": "2021-07-23T05:58:28.523922",
     "exception": false,
     "start_time": "2021-07-23T05:58:28.258964",
     "status": "completed"
    },
    "tags": []
   },
   "outputs": [
    {
     "data": {
      "text/html": [
       "<div>\n",
       "<style scoped>\n",
       "    .dataframe tbody tr th:only-of-type {\n",
       "        vertical-align: middle;\n",
       "    }\n",
       "\n",
       "    .dataframe tbody tr th {\n",
       "        vertical-align: top;\n",
       "    }\n",
       "\n",
       "    .dataframe thead th {\n",
       "        text-align: right;\n",
       "    }\n",
       "</style>\n",
       "<table border=\"1\" class=\"dataframe\">\n",
       "  <thead>\n",
       "    <tr style=\"text-align: right;\">\n",
       "      <th></th>\n",
       "      <th>Category</th>\n",
       "      <th>Message</th>\n",
       "      <th>word_count</th>\n",
       "      <th>char_count</th>\n",
       "      <th>n_of_stupwords</th>\n",
       "    </tr>\n",
       "  </thead>\n",
       "  <tbody>\n",
       "    <tr>\n",
       "      <th>0</th>\n",
       "      <td>ham</td>\n",
       "      <td>go until jurong point, crazy.. available only ...</td>\n",
       "      <td>20</td>\n",
       "      <td>111</td>\n",
       "      <td>5</td>\n",
       "    </tr>\n",
       "    <tr>\n",
       "      <th>1</th>\n",
       "      <td>ham</td>\n",
       "      <td>ok lar... joking wif u oni...</td>\n",
       "      <td>6</td>\n",
       "      <td>29</td>\n",
       "      <td>1</td>\n",
       "    </tr>\n",
       "    <tr>\n",
       "      <th>2</th>\n",
       "      <td>spam</td>\n",
       "      <td>free entry in 2 a wkly comp to win fa cup fina...</td>\n",
       "      <td>28</td>\n",
       "      <td>155</td>\n",
       "      <td>6</td>\n",
       "    </tr>\n",
       "    <tr>\n",
       "      <th>3</th>\n",
       "      <td>ham</td>\n",
       "      <td>u dun say so early hor... u c already then say...</td>\n",
       "      <td>11</td>\n",
       "      <td>49</td>\n",
       "      <td>4</td>\n",
       "    </tr>\n",
       "    <tr>\n",
       "      <th>4</th>\n",
       "      <td>ham</td>\n",
       "      <td>nah i don't think he goes to usf, he lives aro...</td>\n",
       "      <td>13</td>\n",
       "      <td>61</td>\n",
       "      <td>6</td>\n",
       "    </tr>\n",
       "  </tbody>\n",
       "</table>\n",
       "</div>"
      ],
      "text/plain": [
       "  Category                                            Message  word_count  \\\n",
       "0      ham  go until jurong point, crazy.. available only ...          20   \n",
       "1      ham                      ok lar... joking wif u oni...           6   \n",
       "2     spam  free entry in 2 a wkly comp to win fa cup fina...          28   \n",
       "3      ham  u dun say so early hor... u c already then say...          11   \n",
       "4      ham  nah i don't think he goes to usf, he lives aro...          13   \n",
       "\n",
       "   char_count  n_of_stupwords  \n",
       "0         111               5  \n",
       "1          29               1  \n",
       "2         155               6  \n",
       "3          49               4  \n",
       "4          61               6  "
      ]
     },
     "execution_count": 19,
     "metadata": {},
     "output_type": "execute_result"
    }
   ],
   "source": [
    "text['n_of_stupwords'] = text['Message'].agg(lambda x: len([w for w in x.split() if w in stop]))\n",
    "text.head()"
   ]
  },
  {
   "cell_type": "code",
   "execution_count": 20,
   "id": "512b26aa",
   "metadata": {
    "execution": {
     "iopub.execute_input": "2021-07-23T05:58:28.625443Z",
     "iopub.status.busy": "2021-07-23T05:58:28.624742Z",
     "iopub.status.idle": "2021-07-23T05:58:28.627380Z",
     "shell.execute_reply": "2021-07-23T05:58:28.627878Z",
     "shell.execute_reply.started": "2021-07-23T05:18:06.749774Z"
    },
    "papermill": {
     "duration": 0.056521,
     "end_time": "2021-07-23T05:58:28.628061",
     "exception": false,
     "start_time": "2021-07-23T05:58:28.571540",
     "status": "completed"
    },
    "tags": []
   },
   "outputs": [
    {
     "data": {
      "text/plain": [
       "['in', '2', 'a', 'to', 'to', 'to']"
      ]
     },
     "execution_count": 20,
     "metadata": {},
     "output_type": "execute_result"
    }
   ],
   "source": [
    "[w for w in x.split() if w in stop] "
   ]
  },
  {
   "cell_type": "code",
   "execution_count": 21,
   "id": "6673099f",
   "metadata": {
    "execution": {
     "iopub.execute_input": "2021-07-23T05:58:28.727224Z",
     "iopub.status.busy": "2021-07-23T05:58:28.726586Z",
     "iopub.status.idle": "2021-07-23T05:58:28.750261Z",
     "shell.execute_reply": "2021-07-23T05:58:28.749506Z",
     "shell.execute_reply.started": "2021-07-23T05:19:22.445886Z"
    },
    "papermill": {
     "duration": 0.074517,
     "end_time": "2021-07-23T05:58:28.750414",
     "exception": false,
     "start_time": "2021-07-23T05:58:28.675897",
     "status": "completed"
    },
    "tags": []
   },
   "outputs": [
    {
     "name": "stderr",
     "output_type": "stream",
     "text": [
      "C:\\Users\\HP\\AppData\\Local\\Temp\\ipykernel_17240\\496926412.py:1: FutureWarning: ['Message'] did not aggregate successfully. If any error is raised this will raise in a future version of pandas. Drop these columns/ops to avoid this warning.\n",
      "  text.groupby('Category').agg(['mean'])\n"
     ]
    },
    {
     "data": {
      "text/html": [
       "<div>\n",
       "<style scoped>\n",
       "    .dataframe tbody tr th:only-of-type {\n",
       "        vertical-align: middle;\n",
       "    }\n",
       "\n",
       "    .dataframe tbody tr th {\n",
       "        vertical-align: top;\n",
       "    }\n",
       "\n",
       "    .dataframe thead tr th {\n",
       "        text-align: left;\n",
       "    }\n",
       "\n",
       "    .dataframe thead tr:last-of-type th {\n",
       "        text-align: right;\n",
       "    }\n",
       "</style>\n",
       "<table border=\"1\" class=\"dataframe\">\n",
       "  <thead>\n",
       "    <tr>\n",
       "      <th></th>\n",
       "      <th>word_count</th>\n",
       "      <th>char_count</th>\n",
       "      <th>n_of_stupwords</th>\n",
       "    </tr>\n",
       "    <tr>\n",
       "      <th></th>\n",
       "      <th>mean</th>\n",
       "      <th>mean</th>\n",
       "      <th>mean</th>\n",
       "    </tr>\n",
       "    <tr>\n",
       "      <th>Category</th>\n",
       "      <th></th>\n",
       "      <th></th>\n",
       "      <th></th>\n",
       "    </tr>\n",
       "  </thead>\n",
       "  <tbody>\n",
       "    <tr>\n",
       "      <th>ham</th>\n",
       "      <td>14.323938</td>\n",
       "      <td>71.023627</td>\n",
       "      <td>5.846010</td>\n",
       "    </tr>\n",
       "    <tr>\n",
       "      <th>spam</th>\n",
       "      <td>23.892905</td>\n",
       "      <td>138.866131</td>\n",
       "      <td>7.116466</td>\n",
       "    </tr>\n",
       "  </tbody>\n",
       "</table>\n",
       "</div>"
      ],
      "text/plain": [
       "         word_count  char_count n_of_stupwords\n",
       "               mean        mean           mean\n",
       "Category                                      \n",
       "ham       14.323938   71.023627       5.846010\n",
       "spam      23.892905  138.866131       7.116466"
      ]
     },
     "execution_count": 21,
     "metadata": {},
     "output_type": "execute_result"
    }
   ],
   "source": [
    "text.groupby('Category').agg(['mean'])"
   ]
  },
  {
   "cell_type": "code",
   "execution_count": 22,
   "id": "088e33ab",
   "metadata": {
    "execution": {
     "iopub.execute_input": "2021-07-23T05:58:28.854615Z",
     "iopub.status.busy": "2021-07-23T05:58:28.853887Z",
     "iopub.status.idle": "2021-07-23T05:58:28.856885Z",
     "shell.execute_reply": "2021-07-23T05:58:28.857385Z"
    },
    "papermill": {
     "duration": 0.058413,
     "end_time": "2021-07-23T05:58:28.857557",
     "exception": false,
     "start_time": "2021-07-23T05:58:28.799144",
     "status": "completed"
    },
    "tags": []
   },
   "outputs": [
    {
     "data": {
      "text/plain": [
       "'\\nex1=\\'Hello. Can I ask you a question?! That will cost me 100$, but it is OK.\\'\\nRegular expression is a powerful package to manage strings.\\n\\\\:means a special sequence. \\n\\\\d:retuns a matche where a string contains a digit. \\n\\\\s:returns a match where the string contains white space\\nre.findall(\\'\\\\s\\',ex1)\\n\\\\w:returns all word and numeric characters \\nre.findall(\\'\\\\w\\',ex1)\\nlen(re.findall(\\'\\\\w\\',ex1))\\n+:returns all characters\\' occurances\\nre.findall(\\'l+\\',ex1)\\n[hi?]:returns matches to each of the characters inside [] \\nre.findall(\\'[hi?]\\',ex1)\\nCombine some commands:\\nre.findall(\\'\\\\w\\\\s\\',ex1)#Find word characters followed by a white space\\nre.findall(\\'\\\\d+\\\\$\\',ex1)\\n[^hi]:return all characters except those followed by ^\\nre.findall(\\'[^hi?]\\',ex1)\\nre.findall(\\'[^hi?\\\\s]\\',ex1)\\nre.findall(\\'[\\\\w\\\\s]\\',ex1)\\nre.findall(\\'[^\\\\w\\\\s]\\',ex1)\\nre.sub:finds a pattern and substitute it with a replacement\\nre.sub(\\'will\\',\\'might\\',ex1)\\nre.sub(\\'[^\\\\w\\\\s]\\',\"\",ex1)\\n'"
      ]
     },
     "execution_count": 22,
     "metadata": {},
     "output_type": "execute_result"
    }
   ],
   "source": [
    "#Remove all charactes\n",
    "'''\n",
    "ex1='Hello. Can I ask you a question?! That will cost me 100$, but it is OK.'\n",
    "Regular expression is a powerful package to manage strings.\n",
    "\\:means a special sequence. \n",
    "\\d:retuns a matche where a string contains a digit. \n",
    "\\s:returns a match where the string contains white space\n",
    "re.findall('\\s',ex1)\n",
    "\\w:returns all word and numeric characters \n",
    "re.findall('\\w',ex1)\n",
    "len(re.findall('\\w',ex1))\n",
    "+:returns all characters' occurances\n",
    "re.findall('l+',ex1)\n",
    "[hi?]:returns matches to each of the characters inside [] \n",
    "re.findall('[hi?]',ex1)\n",
    "Combine some commands:\n",
    "re.findall('\\w\\s',ex1)#Find word characters followed by a white space\n",
    "re.findall('\\d+\\$',ex1)\n",
    "[^hi]:return all characters except those followed by ^\n",
    "re.findall('[^hi?]',ex1)\n",
    "re.findall('[^hi?\\s]',ex1)\n",
    "re.findall('[\\w\\s]',ex1)\n",
    "re.findall('[^\\w\\s]',ex1)\n",
    "re.sub:finds a pattern and substitute it with a replacement\n",
    "re.sub('will','might',ex1)\n",
    "re.sub('[^\\w\\s]',\"\",ex1)\n",
    "'''\n"
   ]
  },
  {
   "cell_type": "code",
   "execution_count": 23,
   "id": "b202f158",
   "metadata": {
    "execution": {
     "iopub.execute_input": "2021-07-23T05:58:28.960275Z",
     "iopub.status.busy": "2021-07-23T05:58:28.959613Z",
     "iopub.status.idle": "2021-07-23T05:58:28.963979Z",
     "shell.execute_reply": "2021-07-23T05:58:28.964499Z",
     "shell.execute_reply.started": "2021-07-23T05:30:35.399749Z"
    },
    "papermill": {
     "duration": 0.057338,
     "end_time": "2021-07-23T05:58:28.964668",
     "exception": false,
     "start_time": "2021-07-23T05:58:28.907330",
     "status": "completed"
    },
    "tags": []
   },
   "outputs": [
    {
     "data": {
      "text/plain": [
       "'Hello. Can I ask you a question?! That willl cost me 100$, but it is OK.'"
      ]
     },
     "execution_count": 23,
     "metadata": {},
     "output_type": "execute_result"
    }
   ],
   "source": [
    "ex1 = 'Hello. Can I ask you a question?! That willl cost me 100$, but it is OK.'\n",
    "ex1"
   ]
  },
  {
   "cell_type": "code",
   "execution_count": 24,
   "id": "a9ac0aa0",
   "metadata": {
    "execution": {
     "iopub.execute_input": "2021-07-23T05:58:29.072495Z",
     "iopub.status.busy": "2021-07-23T05:58:29.071782Z",
     "iopub.status.idle": "2021-07-23T05:58:29.077083Z",
     "shell.execute_reply": "2021-07-23T05:58:29.076591Z",
     "shell.execute_reply.started": "2021-07-23T05:27:16.020669Z"
    },
    "papermill": {
     "duration": 0.061961,
     "end_time": "2021-07-23T05:58:29.077243",
     "exception": false,
     "start_time": "2021-07-23T05:58:29.015282",
     "status": "completed"
    },
    "tags": []
   },
   "outputs": [
    {
     "data": {
      "text/plain": [
       "['l', 'l', 'l', 'l', 'l']"
      ]
     },
     "execution_count": 24,
     "metadata": {},
     "output_type": "execute_result"
    }
   ],
   "source": [
    "re.findall('l', ex1)"
   ]
  },
  {
   "cell_type": "code",
   "execution_count": 25,
   "id": "f6c20735",
   "metadata": {
    "execution": {
     "iopub.execute_input": "2021-07-23T05:58:29.189478Z",
     "iopub.status.busy": "2021-07-23T05:58:29.188733Z",
     "iopub.status.idle": "2021-07-23T05:58:29.192484Z",
     "shell.execute_reply": "2021-07-23T05:58:29.192944Z",
     "shell.execute_reply.started": "2021-07-23T05:27:43.228458Z"
    },
    "papermill": {
     "duration": 0.062262,
     "end_time": "2021-07-23T05:58:29.193133",
     "exception": false,
     "start_time": "2021-07-23T05:58:29.130871",
     "status": "completed"
    },
    "tags": []
   },
   "outputs": [
    {
     "data": {
      "text/plain": [
       "['hello']"
      ]
     },
     "execution_count": 25,
     "metadata": {},
     "output_type": "execute_result"
    }
   ],
   "source": [
    "re.findall('hello', ex1.lower())"
   ]
  },
  {
   "cell_type": "code",
   "execution_count": 26,
   "id": "af74273a",
   "metadata": {
    "execution": {
     "iopub.execute_input": "2021-07-23T05:58:29.299580Z",
     "iopub.status.busy": "2021-07-23T05:58:29.298925Z",
     "iopub.status.idle": "2021-07-23T05:58:29.303220Z",
     "shell.execute_reply": "2021-07-23T05:58:29.303759Z",
     "shell.execute_reply.started": "2021-07-23T05:29:29.681415Z"
    },
    "papermill": {
     "duration": 0.060562,
     "end_time": "2021-07-23T05:58:29.303940",
     "exception": false,
     "start_time": "2021-07-23T05:58:29.243378",
     "status": "completed"
    },
    "tags": []
   },
   "outputs": [
    {
     "data": {
      "text/plain": [
       "[' ', ' ', ' ', ' ', ' ', ' ', ' ', ' ', ' ', ' ', ' ', ' ', ' ', ' ', ' ']"
      ]
     },
     "execution_count": 26,
     "metadata": {},
     "output_type": "execute_result"
    }
   ],
   "source": [
    "re.findall('\\s', ex1) # Space"
   ]
  },
  {
   "cell_type": "code",
   "execution_count": 27,
   "id": "917c335b",
   "metadata": {
    "execution": {
     "iopub.execute_input": "2021-07-23T05:58:29.409820Z",
     "iopub.status.busy": "2021-07-23T05:58:29.409183Z",
     "iopub.status.idle": "2021-07-23T05:58:29.414079Z",
     "shell.execute_reply": "2021-07-23T05:58:29.413466Z",
     "shell.execute_reply.started": "2021-07-23T05:30:40.178710Z"
    },
    "papermill": {
     "duration": 0.059784,
     "end_time": "2021-07-23T05:58:29.414234",
     "exception": false,
     "start_time": "2021-07-23T05:58:29.354450",
     "status": "completed"
    },
    "tags": []
   },
   "outputs": [
    {
     "data": {
      "text/plain": [
       "['ll', 'lll']"
      ]
     },
     "execution_count": 27,
     "metadata": {},
     "output_type": "execute_result"
    }
   ],
   "source": [
    "re.findall('l+', ex1)"
   ]
  },
  {
   "cell_type": "code",
   "execution_count": 28,
   "id": "e32ad325",
   "metadata": {
    "execution": {
     "iopub.execute_input": "2021-07-23T05:58:29.523691Z",
     "iopub.status.busy": "2021-07-23T05:58:29.522713Z",
     "iopub.status.idle": "2021-07-23T05:58:29.526815Z",
     "shell.execute_reply": "2021-07-23T05:58:29.526279Z",
     "shell.execute_reply.started": "2021-07-23T05:34:06.020979Z"
    },
    "papermill": {
     "duration": 0.062049,
     "end_time": "2021-07-23T05:58:29.526949",
     "exception": false,
     "start_time": "2021-07-23T05:58:29.464900",
     "status": "completed"
    },
    "tags": []
   },
   "outputs": [
    {
     "data": {
      "text/plain": [
       "['H',\n",
       " 'e',\n",
       " 'l',\n",
       " 'l',\n",
       " 'o',\n",
       " 'C',\n",
       " 'a',\n",
       " 'n',\n",
       " 'I',\n",
       " 'a',\n",
       " 's',\n",
       " 'k',\n",
       " 'y',\n",
       " 'o',\n",
       " 'u',\n",
       " 'a',\n",
       " 'q',\n",
       " 'u',\n",
       " 'e',\n",
       " 's',\n",
       " 't',\n",
       " 'i',\n",
       " 'o',\n",
       " 'n',\n",
       " 'T',\n",
       " 'h',\n",
       " 'a',\n",
       " 't',\n",
       " 'w',\n",
       " 'i',\n",
       " 'l',\n",
       " 'l',\n",
       " 'l',\n",
       " 'c',\n",
       " 'o',\n",
       " 's',\n",
       " 't',\n",
       " 'm',\n",
       " 'e',\n",
       " '1',\n",
       " '0',\n",
       " '0',\n",
       " 'b',\n",
       " 'u',\n",
       " 't',\n",
       " 'i',\n",
       " 't',\n",
       " 'i',\n",
       " 's',\n",
       " 'O',\n",
       " 'K']"
      ]
     },
     "execution_count": 28,
     "metadata": {},
     "output_type": "execute_result"
    }
   ],
   "source": [
    "re.findall('\\w', ex1)"
   ]
  },
  {
   "cell_type": "code",
   "execution_count": 29,
   "id": "f82f6b54",
   "metadata": {
    "execution": {
     "iopub.execute_input": "2021-07-23T05:58:29.636126Z",
     "iopub.status.busy": "2021-07-23T05:58:29.635474Z",
     "iopub.status.idle": "2021-07-23T05:58:29.639083Z",
     "shell.execute_reply": "2021-07-23T05:58:29.638469Z",
     "shell.execute_reply.started": "2021-07-23T05:34:33.135516Z"
    },
    "papermill": {
     "duration": 0.060382,
     "end_time": "2021-07-23T05:58:29.639237",
     "exception": false,
     "start_time": "2021-07-23T05:58:29.578855",
     "status": "completed"
    },
    "tags": []
   },
   "outputs": [
    {
     "data": {
      "text/plain": [
       "['Hello',\n",
       " 'Can',\n",
       " 'I',\n",
       " 'ask',\n",
       " 'you',\n",
       " 'a',\n",
       " 'question',\n",
       " 'That',\n",
       " 'willl',\n",
       " 'cost',\n",
       " 'me',\n",
       " '100',\n",
       " 'but',\n",
       " 'it',\n",
       " 'is',\n",
       " 'OK']"
      ]
     },
     "execution_count": 29,
     "metadata": {},
     "output_type": "execute_result"
    }
   ],
   "source": [
    "re.findall('\\w+', ex1)"
   ]
  },
  {
   "cell_type": "code",
   "execution_count": 30,
   "id": "96c7c6d1",
   "metadata": {
    "execution": {
     "iopub.execute_input": "2021-07-23T05:58:29.746698Z",
     "iopub.status.busy": "2021-07-23T05:58:29.746034Z",
     "iopub.status.idle": "2021-07-23T05:58:29.748849Z",
     "shell.execute_reply": "2021-07-23T05:58:29.749344Z",
     "shell.execute_reply.started": "2021-07-23T05:33:03.487175Z"
    },
    "papermill": {
     "duration": 0.059258,
     "end_time": "2021-07-23T05:58:29.749522",
     "exception": false,
     "start_time": "2021-07-23T05:58:29.690264",
     "status": "completed"
    },
    "tags": []
   },
   "outputs": [
    {
     "data": {
      "text/plain": [
       "['1', '0', '0']"
      ]
     },
     "execution_count": 30,
     "metadata": {},
     "output_type": "execute_result"
    }
   ],
   "source": [
    "re.findall('\\d', ex1)"
   ]
  },
  {
   "cell_type": "code",
   "execution_count": 31,
   "id": "6b1501c1",
   "metadata": {
    "execution": {
     "iopub.execute_input": "2021-07-23T05:58:29.855022Z",
     "iopub.status.busy": "2021-07-23T05:58:29.854383Z",
     "iopub.status.idle": "2021-07-23T05:58:29.859670Z",
     "shell.execute_reply": "2021-07-23T05:58:29.860244Z",
     "shell.execute_reply.started": "2021-07-23T05:33:47.947973Z"
    },
    "papermill": {
     "duration": 0.059641,
     "end_time": "2021-07-23T05:58:29.860423",
     "exception": false,
     "start_time": "2021-07-23T05:58:29.800782",
     "status": "completed"
    },
    "tags": []
   },
   "outputs": [
    {
     "data": {
      "text/plain": [
       "['100']"
      ]
     },
     "execution_count": 31,
     "metadata": {},
     "output_type": "execute_result"
    }
   ],
   "source": [
    "re.findall('\\d+', ex1)"
   ]
  },
  {
   "cell_type": "code",
   "execution_count": 32,
   "id": "fe4c0b6f",
   "metadata": {
    "execution": {
     "iopub.execute_input": "2021-07-23T05:58:29.970781Z",
     "iopub.status.busy": "2021-07-23T05:58:29.970079Z",
     "iopub.status.idle": "2021-07-23T05:58:29.974754Z",
     "shell.execute_reply": "2021-07-23T05:58:29.975266Z",
     "shell.execute_reply.started": "2021-07-23T05:36:05.574742Z"
    },
    "papermill": {
     "duration": 0.062776,
     "end_time": "2021-07-23T05:58:29.975448",
     "exception": false,
     "start_time": "2021-07-23T05:58:29.912672",
     "status": "completed"
    },
    "tags": []
   },
   "outputs": [
    {
     "data": {
      "text/plain": [
       "'Hello. Can I ask you a question?! That willl cost me 100$, but it is OK.'"
      ]
     },
     "execution_count": 32,
     "metadata": {},
     "output_type": "execute_result"
    }
   ],
   "source": [
    "ex1"
   ]
  },
  {
   "cell_type": "code",
   "execution_count": 33,
   "id": "d2d0da79",
   "metadata": {
    "execution": {
     "iopub.execute_input": "2021-07-23T05:58:30.083565Z",
     "iopub.status.busy": "2021-07-23T05:58:30.082902Z",
     "iopub.status.idle": "2021-07-23T05:58:30.089439Z",
     "shell.execute_reply": "2021-07-23T05:58:30.088758Z",
     "shell.execute_reply.started": "2021-07-23T05:35:40.824135Z"
    },
    "papermill": {
     "duration": 0.061309,
     "end_time": "2021-07-23T05:58:30.089593",
     "exception": false,
     "start_time": "2021-07-23T05:58:30.028284",
     "status": "completed"
    },
    "tags": []
   },
   "outputs": [
    {
     "data": {
      "text/plain": [
       "['n ', 'I ', 'k ', 'u ', 'a ', 't ', 'l ', 't ', 'e ', 't ', 't ', 's ']"
      ]
     },
     "execution_count": 33,
     "metadata": {},
     "output_type": "execute_result"
    }
   ],
   "source": [
    "re.findall('\\w\\s', ex1)"
   ]
  },
  {
   "cell_type": "code",
   "execution_count": 34,
   "id": "b53f9be7",
   "metadata": {
    "execution": {
     "iopub.execute_input": "2021-07-23T05:58:30.201843Z",
     "iopub.status.busy": "2021-07-23T05:58:30.201164Z",
     "iopub.status.idle": "2021-07-23T05:58:30.203805Z",
     "shell.execute_reply": "2021-07-23T05:58:30.204342Z",
     "shell.execute_reply.started": "2021-07-23T05:36:45.103987Z"
    },
    "papermill": {
     "duration": 0.061932,
     "end_time": "2021-07-23T05:58:30.204511",
     "exception": false,
     "start_time": "2021-07-23T05:58:30.142579",
     "status": "completed"
    },
    "tags": []
   },
   "outputs": [
    {
     "data": {
      "text/plain": [
       "['Can ',\n",
       " 'I ',\n",
       " 'ask ',\n",
       " 'you ',\n",
       " 'a ',\n",
       " 'That ',\n",
       " 'willl ',\n",
       " 'cost ',\n",
       " 'me ',\n",
       " 'but ',\n",
       " 'it ',\n",
       " 'is ']"
      ]
     },
     "execution_count": 34,
     "metadata": {},
     "output_type": "execute_result"
    }
   ],
   "source": [
    "re.findall('\\w+\\s', ex1)"
   ]
  },
  {
   "cell_type": "code",
   "execution_count": 35,
   "id": "4677fa83",
   "metadata": {
    "execution": {
     "iopub.execute_input": "2021-07-23T05:58:30.313785Z",
     "iopub.status.busy": "2021-07-23T05:58:30.313156Z",
     "iopub.status.idle": "2021-07-23T05:58:30.318816Z",
     "shell.execute_reply": "2021-07-23T05:58:30.318260Z",
     "shell.execute_reply.started": "2021-07-23T05:38:09.893804Z"
    },
    "papermill": {
     "duration": 0.061143,
     "end_time": "2021-07-23T05:58:30.318947",
     "exception": false,
     "start_time": "2021-07-23T05:58:30.257804",
     "status": "completed"
    },
    "tags": []
   },
   "outputs": [
    {
     "data": {
      "text/plain": [
       "['100$']"
      ]
     },
     "execution_count": 35,
     "metadata": {},
     "output_type": "execute_result"
    }
   ],
   "source": [
    "re.findall('\\d+\\$', ex1)"
   ]
  },
  {
   "cell_type": "code",
   "execution_count": 36,
   "id": "467149dc",
   "metadata": {
    "execution": {
     "iopub.execute_input": "2021-07-23T05:58:30.431168Z",
     "iopub.status.busy": "2021-07-23T05:58:30.430358Z",
     "iopub.status.idle": "2021-07-23T05:58:30.434270Z",
     "shell.execute_reply": "2021-07-23T05:58:30.434788Z",
     "shell.execute_reply.started": "2021-07-23T05:39:39.569341Z"
    },
    "papermill": {
     "duration": 0.062719,
     "end_time": "2021-07-23T05:58:30.434964",
     "exception": false,
     "start_time": "2021-07-23T05:58:30.372245",
     "status": "completed"
    },
    "tags": []
   },
   "outputs": [
    {
     "data": {
      "text/plain": [
       "['Hello. Can']"
      ]
     },
     "execution_count": 36,
     "metadata": {},
     "output_type": "execute_result"
    }
   ],
   "source": [
    "re.findall('\\w+\\.\\s\\w+', ex1)"
   ]
  },
  {
   "cell_type": "code",
   "execution_count": 37,
   "id": "fde2047d",
   "metadata": {
    "execution": {
     "iopub.execute_input": "2021-07-23T05:58:30.546483Z",
     "iopub.status.busy": "2021-07-23T05:58:30.545760Z",
     "iopub.status.idle": "2021-07-23T05:58:30.548650Z",
     "shell.execute_reply": "2021-07-23T05:58:30.549127Z"
    },
    "papermill": {
     "duration": 0.060265,
     "end_time": "2021-07-23T05:58:30.549299",
     "exception": false,
     "start_time": "2021-07-23T05:58:30.489034",
     "status": "completed"
    },
    "tags": []
   },
   "outputs": [],
   "source": [
    "# w3school"
   ]
  },
  {
   "cell_type": "code",
   "execution_count": 38,
   "id": "b35bc8ac",
   "metadata": {
    "execution": {
     "iopub.execute_input": "2021-07-23T05:58:30.660675Z",
     "iopub.status.busy": "2021-07-23T05:58:30.660011Z",
     "iopub.status.idle": "2021-07-23T05:58:30.664758Z",
     "shell.execute_reply": "2021-07-23T05:58:30.665297Z",
     "shell.execute_reply.started": "2021-07-23T05:41:26.406372Z"
    },
    "papermill": {
     "duration": 0.062146,
     "end_time": "2021-07-23T05:58:30.665482",
     "exception": false,
     "start_time": "2021-07-23T05:58:30.603336",
     "status": "completed"
    },
    "tags": []
   },
   "outputs": [
    {
     "data": {
      "text/plain": [
       "['Hello. Can']"
      ]
     },
     "execution_count": 38,
     "metadata": {},
     "output_type": "execute_result"
    }
   ],
   "source": [
    "re.findall('\\w+\\.\\s\\w+', ex1)"
   ]
  },
  {
   "cell_type": "code",
   "execution_count": 39,
   "id": "9be6e7bf",
   "metadata": {
    "execution": {
     "iopub.execute_input": "2021-07-23T05:58:30.778706Z",
     "iopub.status.busy": "2021-07-23T05:58:30.777977Z",
     "iopub.status.idle": "2021-07-23T05:58:30.784209Z",
     "shell.execute_reply": "2021-07-23T05:58:30.784742Z",
     "shell.execute_reply.started": "2021-07-23T05:43:22.464882Z"
    },
    "papermill": {
     "duration": 0.063669,
     "end_time": "2021-07-23T05:58:30.784906",
     "exception": false,
     "start_time": "2021-07-23T05:58:30.721237",
     "status": "completed"
    },
    "tags": []
   },
   "outputs": [
    {
     "data": {
      "text/plain": [
       "['H',\n",
       " 'e',\n",
       " 'l',\n",
       " 'l',\n",
       " 'o',\n",
       " ' ',\n",
       " 'C',\n",
       " 'a',\n",
       " 'n',\n",
       " ' ',\n",
       " 'I',\n",
       " ' ',\n",
       " 'a',\n",
       " 's',\n",
       " 'k',\n",
       " ' ',\n",
       " 'y',\n",
       " 'o',\n",
       " 'u',\n",
       " ' ',\n",
       " 'a',\n",
       " ' ',\n",
       " 'q',\n",
       " 'u',\n",
       " 'e',\n",
       " 's',\n",
       " 't',\n",
       " 'i',\n",
       " 'o',\n",
       " 'n',\n",
       " ' ',\n",
       " 'T',\n",
       " 'h',\n",
       " 'a',\n",
       " 't',\n",
       " ' ',\n",
       " 'w',\n",
       " 'i',\n",
       " 'l',\n",
       " 'l',\n",
       " 'l',\n",
       " ' ',\n",
       " 'c',\n",
       " 'o',\n",
       " 's',\n",
       " 't',\n",
       " ' ',\n",
       " 'm',\n",
       " 'e',\n",
       " ' ',\n",
       " '1',\n",
       " '0',\n",
       " '0',\n",
       " ' ',\n",
       " 'b',\n",
       " 'u',\n",
       " 't',\n",
       " ' ',\n",
       " 'i',\n",
       " 't',\n",
       " ' ',\n",
       " 'i',\n",
       " 's',\n",
       " ' ',\n",
       " 'O',\n",
       " 'K']"
      ]
     },
     "execution_count": 39,
     "metadata": {},
     "output_type": "execute_result"
    }
   ],
   "source": [
    "re.findall('[\\w\\s]', ex1)"
   ]
  },
  {
   "cell_type": "code",
   "execution_count": 40,
   "id": "6c9f5574",
   "metadata": {
    "execution": {
     "iopub.execute_input": "2021-07-23T05:58:30.897439Z",
     "iopub.status.busy": "2021-07-23T05:58:30.896679Z",
     "iopub.status.idle": "2021-07-23T05:58:30.903658Z",
     "shell.execute_reply": "2021-07-23T05:58:30.904260Z",
     "shell.execute_reply.started": "2021-07-23T05:44:19.452636Z"
    },
    "papermill": {
     "duration": 0.064682,
     "end_time": "2021-07-23T05:58:30.904461",
     "exception": false,
     "start_time": "2021-07-23T05:58:30.839779",
     "status": "completed"
    },
    "tags": []
   },
   "outputs": [
    {
     "data": {
      "text/plain": [
       "['H',\n",
       " 'e',\n",
       " 'l',\n",
       " 'l',\n",
       " 'o',\n",
       " '.',\n",
       " ' ',\n",
       " 'C',\n",
       " 'a',\n",
       " 'n',\n",
       " ' ',\n",
       " 'I',\n",
       " ' ',\n",
       " 'a',\n",
       " 's',\n",
       " 'k',\n",
       " ' ',\n",
       " 'y',\n",
       " 'o',\n",
       " 'u',\n",
       " ' ',\n",
       " 'a',\n",
       " ' ',\n",
       " 'q',\n",
       " 'u',\n",
       " 'e',\n",
       " 's',\n",
       " 't',\n",
       " 'o',\n",
       " 'n',\n",
       " '!',\n",
       " ' ',\n",
       " 'T',\n",
       " 'a',\n",
       " 't',\n",
       " ' ',\n",
       " 'w',\n",
       " 'l',\n",
       " 'l',\n",
       " 'l',\n",
       " ' ',\n",
       " 'c',\n",
       " 'o',\n",
       " 's',\n",
       " 't',\n",
       " ' ',\n",
       " 'm',\n",
       " 'e',\n",
       " ' ',\n",
       " '1',\n",
       " '0',\n",
       " '0',\n",
       " '$',\n",
       " ',',\n",
       " ' ',\n",
       " 'b',\n",
       " 'u',\n",
       " 't',\n",
       " ' ',\n",
       " 't',\n",
       " ' ',\n",
       " 's',\n",
       " ' ',\n",
       " 'O',\n",
       " 'K',\n",
       " '.']"
      ]
     },
     "execution_count": 40,
     "metadata": {},
     "output_type": "execute_result"
    }
   ],
   "source": [
    "re.findall('[^hi?]', ex1)"
   ]
  },
  {
   "cell_type": "code",
   "execution_count": 41,
   "id": "59fc675d",
   "metadata": {
    "execution": {
     "iopub.execute_input": "2021-07-23T05:58:31.022872Z",
     "iopub.status.busy": "2021-07-23T05:58:31.021818Z",
     "iopub.status.idle": "2021-07-23T05:58:31.026354Z",
     "shell.execute_reply": "2021-07-23T05:58:31.025702Z",
     "shell.execute_reply.started": "2021-07-23T05:45:25.132284Z"
    },
    "papermill": {
     "duration": 0.0664,
     "end_time": "2021-07-23T05:58:31.026494",
     "exception": false,
     "start_time": "2021-07-23T05:58:30.960094",
     "status": "completed"
    },
    "tags": []
   },
   "outputs": [
    {
     "data": {
      "text/plain": [
       "['.', '?', '!', '$', ',', '.']"
      ]
     },
     "execution_count": 41,
     "metadata": {},
     "output_type": "execute_result"
    }
   ],
   "source": [
    "re.findall('[^\\w\\s]', ex1)"
   ]
  },
  {
   "cell_type": "code",
   "execution_count": 42,
   "id": "a79d6ac3",
   "metadata": {
    "execution": {
     "iopub.execute_input": "2021-07-23T05:58:31.142416Z",
     "iopub.status.busy": "2021-07-23T05:58:31.141648Z",
     "iopub.status.idle": "2021-07-23T05:58:31.147248Z",
     "shell.execute_reply": "2021-07-23T05:58:31.147774Z",
     "shell.execute_reply.started": "2021-07-23T05:46:47.633910Z"
    },
    "papermill": {
     "duration": 0.064457,
     "end_time": "2021-07-23T05:58:31.147950",
     "exception": false,
     "start_time": "2021-07-23T05:58:31.083493",
     "status": "completed"
    },
    "tags": []
   },
   "outputs": [
    {
     "data": {
      "text/plain": [
       "'Hello. Can I ask you a question?! That might cost me 100$, but it is OK.'"
      ]
     },
     "execution_count": 42,
     "metadata": {},
     "output_type": "execute_result"
    }
   ],
   "source": [
    "re.sub('willl', 'might', ex1)"
   ]
  },
  {
   "cell_type": "code",
   "execution_count": 43,
   "id": "c24e91b6",
   "metadata": {
    "execution": {
     "iopub.execute_input": "2021-07-23T05:58:31.286366Z",
     "iopub.status.busy": "2021-07-23T05:58:31.281366Z",
     "iopub.status.idle": "2021-07-23T05:58:31.309067Z",
     "shell.execute_reply": "2021-07-23T05:58:31.308529Z",
     "shell.execute_reply.started": "2021-07-23T05:49:27.180659Z"
    },
    "papermill": {
     "duration": 0.104495,
     "end_time": "2021-07-23T05:58:31.309226",
     "exception": false,
     "start_time": "2021-07-23T05:58:31.204731",
     "status": "completed"
    },
    "tags": []
   },
   "outputs": [
    {
     "data": {
      "text/html": [
       "<div>\n",
       "<style scoped>\n",
       "    .dataframe tbody tr th:only-of-type {\n",
       "        vertical-align: middle;\n",
       "    }\n",
       "\n",
       "    .dataframe tbody tr th {\n",
       "        vertical-align: top;\n",
       "    }\n",
       "\n",
       "    .dataframe thead th {\n",
       "        text-align: right;\n",
       "    }\n",
       "</style>\n",
       "<table border=\"1\" class=\"dataframe\">\n",
       "  <thead>\n",
       "    <tr style=\"text-align: right;\">\n",
       "      <th></th>\n",
       "      <th>Category</th>\n",
       "      <th>Message</th>\n",
       "      <th>word_count</th>\n",
       "      <th>char_count</th>\n",
       "      <th>n_of_stupwords</th>\n",
       "      <th>n_of_signs</th>\n",
       "    </tr>\n",
       "  </thead>\n",
       "  <tbody>\n",
       "    <tr>\n",
       "      <th>0</th>\n",
       "      <td>ham</td>\n",
       "      <td>go until jurong point, crazy.. available only ...</td>\n",
       "      <td>20</td>\n",
       "      <td>111</td>\n",
       "      <td>5</td>\n",
       "      <td>9</td>\n",
       "    </tr>\n",
       "    <tr>\n",
       "      <th>1</th>\n",
       "      <td>ham</td>\n",
       "      <td>ok lar... joking wif u oni...</td>\n",
       "      <td>6</td>\n",
       "      <td>29</td>\n",
       "      <td>1</td>\n",
       "      <td>6</td>\n",
       "    </tr>\n",
       "  </tbody>\n",
       "</table>\n",
       "</div>"
      ],
      "text/plain": [
       "  Category                                            Message  word_count  \\\n",
       "0      ham  go until jurong point, crazy.. available only ...          20   \n",
       "1      ham                      ok lar... joking wif u oni...           6   \n",
       "\n",
       "   char_count  n_of_stupwords  n_of_signs  \n",
       "0         111               5           9  \n",
       "1          29               1           6  "
      ]
     },
     "execution_count": 43,
     "metadata": {},
     "output_type": "execute_result"
    }
   ],
   "source": [
    "text['n_of_signs'] = text['Message'].agg(lambda x: len(re.findall('[^\\w\\s]', x)))\n",
    "text.head(2)"
   ]
  },
  {
   "cell_type": "code",
   "execution_count": 44,
   "id": "4966d534",
   "metadata": {
    "execution": {
     "iopub.execute_input": "2021-07-23T05:58:31.443700Z",
     "iopub.status.busy": "2021-07-23T05:58:31.438527Z",
     "iopub.status.idle": "2021-07-23T05:58:31.475566Z",
     "shell.execute_reply": "2021-07-23T05:58:31.474899Z",
     "shell.execute_reply.started": "2021-07-23T05:51:44.673605Z"
    },
    "papermill": {
     "duration": 0.10994,
     "end_time": "2021-07-23T05:58:31.475706",
     "exception": false,
     "start_time": "2021-07-23T05:58:31.365766",
     "status": "completed"
    },
    "tags": []
   },
   "outputs": [
    {
     "data": {
      "text/html": [
       "<div>\n",
       "<style scoped>\n",
       "    .dataframe tbody tr th:only-of-type {\n",
       "        vertical-align: middle;\n",
       "    }\n",
       "\n",
       "    .dataframe tbody tr th {\n",
       "        vertical-align: top;\n",
       "    }\n",
       "\n",
       "    .dataframe thead th {\n",
       "        text-align: right;\n",
       "    }\n",
       "</style>\n",
       "<table border=\"1\" class=\"dataframe\">\n",
       "  <thead>\n",
       "    <tr style=\"text-align: right;\">\n",
       "      <th></th>\n",
       "      <th>Category</th>\n",
       "      <th>Message</th>\n",
       "      <th>word_count</th>\n",
       "      <th>char_count</th>\n",
       "      <th>n_of_stupwords</th>\n",
       "      <th>n_of_signs</th>\n",
       "    </tr>\n",
       "  </thead>\n",
       "  <tbody>\n",
       "    <tr>\n",
       "      <th>0</th>\n",
       "      <td>ham</td>\n",
       "      <td>go until jurong point crazy available only in ...</td>\n",
       "      <td>20</td>\n",
       "      <td>111</td>\n",
       "      <td>5</td>\n",
       "      <td>9</td>\n",
       "    </tr>\n",
       "    <tr>\n",
       "      <th>1</th>\n",
       "      <td>ham</td>\n",
       "      <td>ok lar joking wif u oni</td>\n",
       "      <td>6</td>\n",
       "      <td>29</td>\n",
       "      <td>1</td>\n",
       "      <td>6</td>\n",
       "    </tr>\n",
       "    <tr>\n",
       "      <th>2</th>\n",
       "      <td>spam</td>\n",
       "      <td>free entry in 2 a wkly comp to win fa cup fina...</td>\n",
       "      <td>28</td>\n",
       "      <td>155</td>\n",
       "      <td>6</td>\n",
       "      <td>6</td>\n",
       "    </tr>\n",
       "    <tr>\n",
       "      <th>3</th>\n",
       "      <td>ham</td>\n",
       "      <td>u dun say so early hor u c already then say</td>\n",
       "      <td>11</td>\n",
       "      <td>49</td>\n",
       "      <td>4</td>\n",
       "      <td>6</td>\n",
       "    </tr>\n",
       "    <tr>\n",
       "      <th>4</th>\n",
       "      <td>ham</td>\n",
       "      <td>nah i dont think he goes to usf he lives aroun...</td>\n",
       "      <td>13</td>\n",
       "      <td>61</td>\n",
       "      <td>6</td>\n",
       "      <td>2</td>\n",
       "    </tr>\n",
       "  </tbody>\n",
       "</table>\n",
       "</div>"
      ],
      "text/plain": [
       "  Category                                            Message  word_count  \\\n",
       "0      ham  go until jurong point crazy available only in ...          20   \n",
       "1      ham                            ok lar joking wif u oni           6   \n",
       "2     spam  free entry in 2 a wkly comp to win fa cup fina...          28   \n",
       "3      ham        u dun say so early hor u c already then say          11   \n",
       "4      ham  nah i dont think he goes to usf he lives aroun...          13   \n",
       "\n",
       "   char_count  n_of_stupwords  n_of_signs  \n",
       "0         111               5           9  \n",
       "1          29               1           6  \n",
       "2         155               6           6  \n",
       "3          49               4           6  \n",
       "4          61               6           2  "
      ]
     },
     "execution_count": 44,
     "metadata": {},
     "output_type": "execute_result"
    }
   ],
   "source": [
    "text['Message'] = text['Message'].agg(lambda x: re.sub('[^\\w\\s]', '', x))\n",
    "text.head()"
   ]
  },
  {
   "cell_type": "code",
   "execution_count": 45,
   "id": "20fd2e1a",
   "metadata": {
    "execution": {
     "iopub.execute_input": "2021-07-23T05:58:31.593395Z",
     "iopub.status.busy": "2021-07-23T05:58:31.592612Z",
     "iopub.status.idle": "2021-07-23T05:58:31.595729Z",
     "shell.execute_reply": "2021-07-23T05:58:31.595057Z"
    },
    "papermill": {
     "duration": 0.063443,
     "end_time": "2021-07-23T05:58:31.595886",
     "exception": false,
     "start_time": "2021-07-23T05:58:31.532443",
     "status": "completed"
    },
    "tags": []
   },
   "outputs": [],
   "source": [
    "# Stemming all words \n",
    "# Predict, Predicting, Prediction"
   ]
  },
  {
   "cell_type": "code",
   "execution_count": 46,
   "id": "cfd133f5",
   "metadata": {
    "execution": {
     "iopub.execute_input": "2021-07-23T05:58:31.715492Z",
     "iopub.status.busy": "2021-07-23T05:58:31.714607Z",
     "iopub.status.idle": "2021-07-23T05:58:31.718800Z",
     "shell.execute_reply": "2021-07-23T05:58:31.718260Z",
     "shell.execute_reply.started": "2021-07-23T05:53:27.037264Z"
    },
    "papermill": {
     "duration": 0.066089,
     "end_time": "2021-07-23T05:58:31.718953",
     "exception": false,
     "start_time": "2021-07-23T05:58:31.652864",
     "status": "completed"
    },
    "tags": []
   },
   "outputs": [
    {
     "data": {
      "text/plain": [
       "('arabic',\n",
       " 'danish',\n",
       " 'dutch',\n",
       " 'english',\n",
       " 'finnish',\n",
       " 'french',\n",
       " 'german',\n",
       " 'hungarian',\n",
       " 'italian',\n",
       " 'norwegian',\n",
       " 'porter',\n",
       " 'portuguese',\n",
       " 'romanian',\n",
       " 'russian',\n",
       " 'spanish',\n",
       " 'swedish')"
      ]
     },
     "execution_count": 46,
     "metadata": {},
     "output_type": "execute_result"
    }
   ],
   "source": [
    "stemmer = SnowballStemmer('english')\n",
    "stemmer.languages"
   ]
  }
 ],
 "metadata": {
  "kernelspec": {
   "display_name": "Python 3 (ipykernel)",
   "language": "python",
   "name": "python3"
  },
  "language_info": {
   "codemirror_mode": {
    "name": "ipython",
    "version": 3
   },
   "file_extension": ".py",
   "mimetype": "text/x-python",
   "name": "python",
   "nbconvert_exporter": "python",
   "pygments_lexer": "ipython3",
   "version": "3.9.13"
  },
  "papermill": {
   "default_parameters": {},
   "duration": 17.643591,
   "end_time": "2021-07-23T05:58:33.964440",
   "environment_variables": {},
   "exception": null,
   "input_path": "__notebook__.ipynb",
   "output_path": "__notebook__.ipynb",
   "parameters": {},
   "start_time": "2021-07-23T05:58:16.320849",
   "version": "2.3.3"
  }
 },
 "nbformat": 4,
 "nbformat_minor": 5
}
